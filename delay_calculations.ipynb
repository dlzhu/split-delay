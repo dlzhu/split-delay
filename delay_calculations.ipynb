from numpy import *

a = 3
b = 6
print a+b
